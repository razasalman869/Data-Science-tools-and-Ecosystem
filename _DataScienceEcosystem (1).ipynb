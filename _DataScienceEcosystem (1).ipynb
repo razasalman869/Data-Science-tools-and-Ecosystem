{
 "cells": [
  {
   "cell_type": "markdown",
   "id": "46abd918",
   "metadata": {},
   "source": [
    "# Data Science Tools and Ecosystem"
   ]
  },
  {
   "cell_type": "markdown",
   "id": "fad0aaf9",
   "metadata": {},
   "source": [
    "### In this notebook, Data Science Tools and Ecosystem are summarized."
   ]
  },
  {
   "cell_type": "markdown",
   "id": "e4e1a20e",
   "metadata": {},
   "source": [
    "**Objectives:**\n",
    "- List popular languages for Data Science\n",
    "- list data science libraries\n",
    "- Table of Data Science tools\n",
    "- Convert minutes to hours"
   ]
  },
  {
   "cell_type": "markdown",
   "id": "118b4c74",
   "metadata": {},
   "source": [
    "#### Popular languages for Data Scientists "
   ]
  },
  {
   "cell_type": "markdown",
   "id": "b830dd51",
   "metadata": {},
   "source": [
    "- Python\n",
    "- SQL\n",
    "- R\n",
    "- Scala"
   ]
  },
  {
   "cell_type": "markdown",
   "id": "4869a2a1",
   "metadata": {},
   "source": [
    "####  Commonly used libraries used by Data Scientists:"
   ]
  },
  {
   "cell_type": "markdown",
   "id": "e77f117c",
   "metadata": {},
   "source": [
    "**Python Libraries:**\n",
    "- Pandas\n",
    "- Numpy\n",
    "- Matplotlib\n",
    "- Scikit-learn\n",
    "- Pytorch"
   ]
  },
  {
   "cell_type": "markdown",
   "id": "56f0921d",
   "metadata": {},
   "source": [
    "**Scala Libraries:**\n",
    "- Vegas\n"
   ]
  },
  {
   "cell_type": "markdown",
   "id": "03abb053",
   "metadata": {},
   "source": [
    "**R libraries:**\n",
    "- ggplot2"
   ]
  },
  {
   "cell_type": "markdown",
   "id": "13fb815a",
   "metadata": {},
   "source": [
    "| Data Science tools |\n",
    "|--------------------|\n",
    "| Rstudio |\n",
    "| Jupyter |\n",
    "| Ray |\n"
   ]
  },
  {
   "cell_type": "markdown",
   "id": "36388e09",
   "metadata": {},
   "source": [
    "### Below are a few examples of evaluating arithmetic expressions in Python"
   ]
  },
  {
   "cell_type": "markdown",
   "id": "a2b66f55",
   "metadata": {},
   "source": [
    "- **, For Exponential \n",
    "- //, For Integer Division \n",
    "- %,  For Modulus Operator\n",
    "- +,  For Addition\n",
    "- -,  For Subraction\n",
    "\n"
   ]
  },
  {
   "cell_type": "code",
   "execution_count": 5,
   "id": "a4dd8cff",
   "metadata": {},
   "outputs": [
    {
     "data": {
      "text/plain": [
       "17"
      ]
     },
     "execution_count": 5,
     "metadata": {},
     "output_type": "execute_result"
    }
   ],
   "source": [
    "(3*4)+5\n"
   ]
  },
  {
   "cell_type": "markdown",
   "id": "723eba7a",
   "metadata": {},
   "source": [
    "This will convert 200 minutes to hours by diving by 60"
   ]
  },
  {
   "cell_type": "code",
   "execution_count": 7,
   "id": "ffda0e87",
   "metadata": {},
   "outputs": [
    {
     "data": {
      "text/plain": [
       "3"
      ]
     },
     "execution_count": 7,
     "metadata": {},
     "output_type": "execute_result"
    }
   ],
   "source": [
    "200//60"
   ]
  },
  {
   "cell_type": "markdown",
   "id": "cebca422",
   "metadata": {},
   "source": [
    "## Author\n",
    "Suleman Raza"
   ]
  }
 ],
 "metadata": {
  "kernelspec": {
   "display_name": "Python 3 (ipykernel)",
   "language": "python",
   "name": "python3"
  },
  "language_info": {
   "codemirror_mode": {
    "name": "ipython",
    "version": 3
   },
   "file_extension": ".py",
   "mimetype": "text/x-python",
   "name": "python",
   "nbconvert_exporter": "python",
   "pygments_lexer": "ipython3",
   "version": "3.11.5"
  }
 },
 "nbformat": 4,
 "nbformat_minor": 5
}
